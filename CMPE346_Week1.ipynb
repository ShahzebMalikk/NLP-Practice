{
 "cells": [
  {
   "cell_type": "markdown",
   "metadata": {
    "colab_type": "text",
    "id": "dpwt6WBymuKi"
   },
   "source": [
    "#### Installing NLTK Package"
   ]
  },
  {
   "cell_type": "code",
   "execution_count": 0,
   "metadata": {
    "colab": {},
    "colab_type": "code",
    "collapsed": true,
    "id": "pF1GuNauh4IB"
   },
   "outputs": [],
   "source": [
    "!pip install nltk"
   ]
  },
  {
   "cell_type": "code",
   "execution_count": 0,
   "metadata": {
    "colab": {},
    "colab_type": "code",
    "collapsed": true,
    "id": "HwPTQN_Vhjn0"
   },
   "outputs": [],
   "source": [
    "import nltk\n",
    "nltk.download()\n",
    "# nltk.download('book')"
   ]
  },
  {
   "cell_type": "code",
   "execution_count": 0,
   "metadata": {
    "colab": {},
    "colab_type": "code",
    "collapsed": true,
    "id": "sQugr2gIn4n5"
   },
   "outputs": [],
   "source": [
    "print(f'Imported version of NLTK : {nltk.__version__}') # supports python 3.6 and above\n",
    "print('Imported version of NLTK :', nltk.__version__)\n",
    "print('Imported version of NLTK : ' + nltk.__version__)"
   ]
  },
  {
   "cell_type": "code",
   "execution_count": 0,
   "metadata": {
    "colab": {},
    "colab_type": "code",
    "collapsed": true,
    "id": "aoIs0pClhoMW"
   },
   "outputs": [],
   "source": [
    "from nltk.book import *"
   ]
  },
  {
   "cell_type": "markdown",
   "metadata": {
    "colab_type": "text",
    "id": "mzyIwPgCrXNC"
   },
   "source": [
    "> ### Investigating Text"
   ]
  },
  {
   "cell_type": "code",
   "execution_count": 0,
   "metadata": {
    "colab": {},
    "colab_type": "code",
    "collapsed": true,
    "id": "IcELjo8iv43H"
   },
   "outputs": [],
   "source": [
    "text1[:100]"
   ]
  },
  {
   "cell_type": "code",
   "execution_count": 0,
   "metadata": {
    "colab": {},
    "colab_type": "code",
    "collapsed": true,
    "id": "Rq4cx5jgv9PA"
   },
   "outputs": [],
   "source": [
    "' '.join(text1[:100])"
   ]
  },
  {
   "cell_type": "code",
   "execution_count": 0,
   "metadata": {
    "colab": {},
    "colab_type": "code",
    "collapsed": true,
    "id": "pFllUoivnQb3"
   },
   "outputs": [],
   "source": [
    "searching_word = 'whale'\n",
    "print(f'Total length of text: {len(text1)}')\n",
    "print(f'Total count of \\'{searching_word}\\' in text: {text1.count(searching_word)}')"
   ]
  },
  {
   "cell_type": "code",
   "execution_count": 0,
   "metadata": {
    "colab": {},
    "colab_type": "code",
    "collapsed": true,
    "id": "fq-HHsaoiYjn"
   },
   "outputs": [],
   "source": [
    "example = 'Hello Bilgi University'\n",
    "tokens = example.split(' ')\n",
    "print(tokens)"
   ]
  },
  {
   "cell_type": "markdown",
   "metadata": {
    "colab_type": "text",
    "id": "vYozr_sgkq26"
   },
   "source": [
    "> ### _What this code do?_ "
   ]
  },
  {
   "cell_type": "code",
   "execution_count": 0,
   "metadata": {
    "colab": {},
    "colab_type": "code",
    "collapsed": true,
    "id": "4kWXAP_3kIYt"
   },
   "outputs": [],
   "source": [
    "max([len(i) for i in tokens])"
   ]
  },
  {
   "cell_type": "markdown",
   "metadata": {
    "colab_type": "text",
    "id": "WgIfd55zlW1J"
   },
   "source": [
    "> #### _How can we write above code explicitly?_"
   ]
  },
  {
   "cell_type": "code",
   "execution_count": 0,
   "metadata": {
    "colab": {},
    "colab_type": "code",
    "collapsed": true,
    "id": "X_qEEcDlkpoE"
   },
   "outputs": [],
   "source": [
    "pass"
   ]
  },
  {
   "cell_type": "code",
   "execution_count": 0,
   "metadata": {
    "colab": {},
    "colab_type": "code",
    "collapsed": true,
    "id": "H-3EYCKvl8K4"
   },
   "outputs": [],
   "source": [
    "max([len(i) for i in text1.tokens])"
   ]
  },
  {
   "cell_type": "markdown",
   "metadata": {
    "colab_type": "text",
    "id": "rArTLwDtszCd"
   },
   "source": [
    "> ### _How many unique words does text contain?_"
   ]
  },
  {
   "cell_type": "code",
   "execution_count": 0,
   "metadata": {
    "colab": {},
    "colab_type": "code",
    "collapsed": true,
    "id": "epTosTVBsWMY"
   },
   "outputs": [],
   "source": [
    "len(set(text1.tokens))"
   ]
  },
  {
   "cell_type": "markdown",
   "metadata": {
    "colab_type": "text",
    "id": "GFzFPCvEtZFk"
   },
   "source": [
    "> ### _Is this approach applicable?_"
   ]
  },
  {
   "cell_type": "code",
   "execution_count": 0,
   "metadata": {
    "colab": {},
    "colab_type": "code",
    "collapsed": true,
    "id": "Gq4ufYdqtGAA"
   },
   "outputs": [],
   "source": [
    "print(f\"Total count of given word: {text1.count('CEASE')}\")\n",
    "print(f\"Total count of given word: {text1.count('cease')}\")"
   ]
  },
  {
   "cell_type": "code",
   "execution_count": 0,
   "metadata": {
    "colab": {},
    "colab_type": "code",
    "collapsed": true,
    "id": "9h07LaS1tR3n"
   },
   "outputs": [],
   "source": [
    "pass"
   ]
  },
  {
   "cell_type": "code",
   "execution_count": 0,
   "metadata": {
    "colab": {},
    "colab_type": "code",
    "collapsed": true,
    "id": "z6Mr12QZtlhv"
   },
   "outputs": [],
   "source": []
  },
  {
   "cell_type": "code",
   "execution_count": 0,
   "metadata": {
    "colab": {},
    "colab_type": "code",
    "collapsed": true,
    "id": "XPXmKtIxtrYF"
   },
   "outputs": [],
   "source": []
  }
 ],
 "metadata": {
  "colab": {
   "collapsed_sections": [],
   "name": "CMPE346_Week1.ipynb",
   "provenance": []
  },
  "kernelspec": {
   "display_name": "Python 3",
   "language": "python",
   "name": "python3"
  },
  "language_info": {
   "codemirror_mode": {
    "name": "ipython",
    "version": 3
   },
   "file_extension": ".py",
   "mimetype": "text/x-python",
   "name": "python",
   "nbconvert_exporter": "python",
   "pygments_lexer": "ipython3",
   "version": "3.7.4"
  }
 },
 "nbformat": 4,
 "nbformat_minor": 1
}
