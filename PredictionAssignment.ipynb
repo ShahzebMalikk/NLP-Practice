{
 "cells": [
  {
   "cell_type": "markdown",
   "metadata": {},
   "source": [
    "Build a classification model on train dataset. Make predictions on the test dataset.\n",
    "Upload your predictions (in .csv file) with your codes as well.\n"
   ]
  },
  {
   "cell_type": "markdown",
   "metadata": {},
   "source": [
    "# Importing all important libraries"
   ]
  },
  {
   "cell_type": "code",
   "execution_count": 1,
   "metadata": {},
   "outputs": [],
   "source": [
    "import nltk #toolkit\n",
    "import numpy as np # linear algebra\n",
    "import pandas as pd # data processing, \n",
    "import sklearn\n",
    "import gensim\n",
    "import multiprocessing\n",
    "import pandas\n",
    "import nltk\n",
    "import turkishnlp\n",
    "from nltk import word_tokenize\n",
    "from nltk.corpus import stopwords\n",
    "from nltk.stem import SnowballStemmer"
   ]
  },
  {
   "cell_type": "code",
   "execution_count": 2,
   "metadata": {},
   "outputs": [],
   "source": [
    "#pip install turkishnlp"
   ]
  },
  {
   "cell_type": "code",
   "execution_count": 3,
   "metadata": {},
   "outputs": [],
   "source": [
    "#pip install stop-words"
   ]
  },
  {
   "cell_type": "code",
   "execution_count": 4,
   "metadata": {},
   "outputs": [],
   "source": [
    "from turkishnlp import detector\n",
    "obj = detector.TurkishNLP()"
   ]
  },
  {
   "cell_type": "code",
   "execution_count": 5,
   "metadata": {},
   "outputs": [],
   "source": [
    "#obj.download()"
   ]
  },
  {
   "cell_type": "code",
   "execution_count": 6,
   "metadata": {},
   "outputs": [],
   "source": [
    "#obj.create_word_set()"
   ]
  },
  {
   "cell_type": "code",
   "execution_count": 7,
   "metadata": {},
   "outputs": [
    {
     "data": {
      "text/plain": [
       "'tr_TR'"
      ]
     },
     "execution_count": 7,
     "metadata": {},
     "output_type": "execute_result"
    }
   ],
   "source": [
    "import locale\n",
    "locale.setlocale(locale.LC_ALL, 'tr_TR')"
   ]
  },
  {
   "cell_type": "markdown",
   "metadata": {},
   "source": [
    "used to reproduce the same result every time if the script is kept\n",
    "consistent otherwise each run will produce different results"
   ]
  },
  {
   "cell_type": "code",
   "execution_count": 8,
   "metadata": {},
   "outputs": [],
   "source": [
    "np.random.seed(500)"
   ]
  },
  {
   "cell_type": "markdown",
   "metadata": {},
   "source": [
    "# Importing Train Dataset"
   ]
  },
  {
   "cell_type": "code",
   "execution_count": 9,
   "metadata": {},
   "outputs": [],
   "source": [
    "df = pd.read_csv('train.csv')\n"
   ]
  },
  {
   "cell_type": "code",
   "execution_count": 10,
   "metadata": {},
   "outputs": [],
   "source": [
    "df.columns=[\"Label\",\"feature\"]"
   ]
  },
  {
   "cell_type": "code",
   "execution_count": 11,
   "metadata": {},
   "outputs": [
    {
     "name": "stdout",
     "output_type": "stream",
     "text": [
      "          Label                                            feature\n",
      "0   kultursanat  Belgelemek ve değiştirmek için kamera!  4. Han...\n",
      "1     teknoloji  ﻿  \\tE-ticaret alanının yenilikçi bir markası ...\n",
      "2        saglik  ﻿ RADİKAL -  Sağlık çalışanlarına şiddet uygul...\n",
      "3   kultursanat  ﻿  \\tDeniz Kuvvetleri Komutanlığı bünyesinde S...\n",
      "4       siyaset  ﻿ RADİKAL -                    CHP            ...\n",
      "5          spor  Bu kadro başaramaz  'Milli Takım'ın bu yapısıy...\n",
      "6     teknoloji  ﻿                                      \\t     ...\n",
      "7     teknoloji  ﻿   \\t\\t\\t\\t\\t\\t\\t  \\t\\t\\t\\t\\t\\t\\t  \\t\\t\\t\\t\\t...\n",
      "8       ekonomi  ﻿ RADİKAL -  IMF sözcüsü,                   Yu...\n",
      "9          spor  ﻿   \\t\\t\\t\\t\\t\\t\\t  \\t\\t\\t\\t\\t\\t\\t  \\t\\t\\t\\t\\t...\n",
      "10      ekonomi  ﻿  \\tBorsa İstanbul (BİST) 100 Endeksi günü yü...\n",
      "11       saglik  ﻿                                      \\tTürk ...\n",
      "12       saglik  ﻿ RADİKAL -  Hastaneye kaldırılan kişi acil ol...\n",
      "13  kultursanat  Pakistan, Orhan Kemal'in kaleminden Nazım'ı ok...\n",
      "14         spor  ﻿  \\tDiyarbakır’da spor eğitmenliği yapan Ahme...\n",
      "15  kultursanat  Türk sanatçıdan Londra'da bir ilk  İngiltere'n...\n",
      "16    teknoloji  MSN tarih oluyor!  Microsoft'un 13 yıllık geçm...\n",
      "17    teknoloji  Yılın son gökyüzü şöleni  Gökyüzünde görsel şö...\n",
      "18       saglik  Protez dişleri temizlerken dikkat!  Protez diş...\n",
      "19    teknoloji  Distribütörü belli oldu  19 Kasım'dan itibaren...\n",
      "20      ekonomi  ﻿   \\t\\t\\t\\t\\t\\t\\t  \\t\\t\\t\\t\\t\\t\\t  \\t\\t\\t\\t\\t...\n",
      "21  kultursanat  Emre Kula  Beyoğlu Hayal Kahvesi  12.11.2012  ...\n",
      "22         spor  ﻿                                    1. Avrupa...\n",
      "23       saglik  Her istediği yapılan çocuk mutsuz oluyor!  Her...\n",
      "24         spor  ﻿                                      \\tAtlet...\n",
      "25    teknoloji  İnternet kullanıcılarına çok önemli uyarı  TÜK...\n",
      "26         spor  ﻿Cimbom'un Brezilyalı oyuncusu Felipe Melo,   ...\n",
      "27      siyaset  ﻿ RADİKAL -  Muğla'nın Datça İlçe Belediye Baş...\n",
      "28      ekonomi  ﻿  \\tBorsa İstanbul (BİST) 100 Endeksi ilk sea...\n",
      "29    teknoloji  ﻿                                      \\t     ...\n",
      "30    teknoloji  ﻿  \\t800 milyonu aşkın kullanıcısıyla dünyanın...\n",
      "31       saglik  ﻿  \\tDünya’da üçüncü kez uygulanan robotik böb...\n",
      "32  kultursanat  ﻿ \\t\\t\\t\\t\\t\\t\\t  \\t\\t\\t\\t\\t\\t\\t  \\t\\t\\t\\t\\t\\t...\n",
      "33  kultursanat  İşte en büyük Atatürk portalı  http://www.iste...\n",
      "34       saglik  ﻿  \\tYapılan birçok araştırmanın E vitamini iç...\n",
      "35      ekonomi  Fasondan bıktı tek markayla uçtu  1985ten ber...\n",
      "36       saglik  Soruşturma başlatıldı  Sivas'ın Zara ilçesinde...\n",
      "37         spor  ﻿   \\t\\t\\t\\t\\t\\t\\t  \\t\\t\\t\\t\\t\\t\\t  \\t\\t\\t\\t\\t...\n",
      "38      siyaset  Hükümet'in Google'dan içerik kaldırma talebi f...\n",
      "39       saglik  ﻿Araştırmayı yapan Amerikan Ulusal Sağlık Enst...\n"
     ]
    }
   ],
   "source": [
    "print(df.head(40))"
   ]
  },
  {
   "cell_type": "code",
   "execution_count": 12,
   "metadata": {},
   "outputs": [
    {
     "name": "stdout",
     "output_type": "stream",
     "text": [
      "<class 'pandas.core.frame.DataFrame'>\n",
      "RangeIndex: 2520 entries, 0 to 2519\n",
      "Data columns (total 2 columns):\n",
      "Label      2520 non-null object\n",
      "feature    2520 non-null object\n",
      "dtypes: object(2)\n",
      "memory usage: 39.5+ KB\n",
      "None\n"
     ]
    }
   ],
   "source": [
    "print(df.info())"
   ]
  },
  {
   "cell_type": "code",
   "execution_count": 13,
   "metadata": {},
   "outputs": [
    {
     "name": "stdout",
     "output_type": "stream",
     "text": [
      "            Label                                            feature\n",
      "count        2520                                               2520\n",
      "unique          6                                               2438\n",
      "top     teknoloji  Ansen sizi sinemanın büyülü dünyasına davet ed...\n",
      "freq          432                                                  4\n"
     ]
    }
   ],
   "source": [
    "print(df.describe(include='all'))"
   ]
  },
  {
   "cell_type": "code",
   "execution_count": 14,
   "metadata": {},
   "outputs": [
    {
     "data": {
      "text/html": [
       "<div>\n",
       "<style scoped>\n",
       "    .dataframe tbody tr th:only-of-type {\n",
       "        vertical-align: middle;\n",
       "    }\n",
       "\n",
       "    .dataframe tbody tr th {\n",
       "        vertical-align: top;\n",
       "    }\n",
       "\n",
       "    .dataframe thead th {\n",
       "        text-align: right;\n",
       "    }\n",
       "</style>\n",
       "<table border=\"1\" class=\"dataframe\">\n",
       "  <thead>\n",
       "    <tr style=\"text-align: right;\">\n",
       "      <th></th>\n",
       "      <th>Label</th>\n",
       "      <th>feature</th>\n",
       "    </tr>\n",
       "  </thead>\n",
       "  <tbody>\n",
       "    <tr>\n",
       "      <td>0</td>\n",
       "      <td>kultursanat</td>\n",
       "      <td>Belgelemek ve değiştirmek için kamera!  4. Han...</td>\n",
       "    </tr>\n",
       "    <tr>\n",
       "      <td>1</td>\n",
       "      <td>teknoloji</td>\n",
       "      <td>﻿  \\tE-ticaret alanının yenilikçi bir markası ...</td>\n",
       "    </tr>\n",
       "    <tr>\n",
       "      <td>2</td>\n",
       "      <td>saglik</td>\n",
       "      <td>﻿ RADİKAL -  Sağlık çalışanlarına şiddet uygul...</td>\n",
       "    </tr>\n",
       "    <tr>\n",
       "      <td>3</td>\n",
       "      <td>kultursanat</td>\n",
       "      <td>﻿  \\tDeniz Kuvvetleri Komutanlığı bünyesinde S...</td>\n",
       "    </tr>\n",
       "    <tr>\n",
       "      <td>4</td>\n",
       "      <td>siyaset</td>\n",
       "      <td>﻿ RADİKAL -                    CHP            ...</td>\n",
       "    </tr>\n",
       "    <tr>\n",
       "      <td>...</td>\n",
       "      <td>...</td>\n",
       "      <td>...</td>\n",
       "    </tr>\n",
       "    <tr>\n",
       "      <td>2515</td>\n",
       "      <td>teknoloji</td>\n",
       "      <td>Artık telefon üretmeyecek  ABD merkezli teknol...</td>\n",
       "    </tr>\n",
       "    <tr>\n",
       "      <td>2516</td>\n",
       "      <td>spor</td>\n",
       "      <td>﻿                      ANKARA                 ...</td>\n",
       "    </tr>\n",
       "    <tr>\n",
       "      <td>2517</td>\n",
       "      <td>spor</td>\n",
       "      <td>﻿                                    Başantren...</td>\n",
       "    </tr>\n",
       "    <tr>\n",
       "      <td>2518</td>\n",
       "      <td>saglik</td>\n",
       "      <td>-50 derecede dondurulan kalbe ritim tedavisi  ...</td>\n",
       "    </tr>\n",
       "    <tr>\n",
       "      <td>2519</td>\n",
       "      <td>ekonomi</td>\n",
       "      <td>﻿   \\t\\t\\t\\t\\t\\t\\t  \\t\\t\\t\\t\\t\\t\\t  \\t\\t\\t\\t\\t...</td>\n",
       "    </tr>\n",
       "  </tbody>\n",
       "</table>\n",
       "<p>2520 rows × 2 columns</p>\n",
       "</div>"
      ],
      "text/plain": [
       "            Label                                            feature\n",
       "0     kultursanat  Belgelemek ve değiştirmek için kamera!  4. Han...\n",
       "1       teknoloji  ﻿  \\tE-ticaret alanının yenilikçi bir markası ...\n",
       "2          saglik  ﻿ RADİKAL -  Sağlık çalışanlarına şiddet uygul...\n",
       "3     kultursanat  ﻿  \\tDeniz Kuvvetleri Komutanlığı bünyesinde S...\n",
       "4         siyaset  ﻿ RADİKAL -                    CHP            ...\n",
       "...           ...                                                ...\n",
       "2515    teknoloji  Artık telefon üretmeyecek  ABD merkezli teknol...\n",
       "2516         spor  ﻿                      ANKARA                 ...\n",
       "2517         spor  ﻿                                    Başantren...\n",
       "2518       saglik  -50 derecede dondurulan kalbe ritim tedavisi  ...\n",
       "2519      ekonomi  ﻿   \\t\\t\\t\\t\\t\\t\\t  \\t\\t\\t\\t\\t\\t\\t  \\t\\t\\t\\t\\t...\n",
       "\n",
       "[2520 rows x 2 columns]"
      ]
     },
     "execution_count": 14,
     "metadata": {},
     "output_type": "execute_result"
    }
   ],
   "source": [
    "df.dropna()"
   ]
  },
  {
   "cell_type": "code",
   "execution_count": 15,
   "metadata": {},
   "outputs": [],
   "source": [
    "df['feature'] = df['feature'].str.replace('[^a-z|ğ|Ğ|ç|C|ı|I|i|İ|ö|Ö|Ş|ş|ü|Ü| ] ',' ').str.lower()"
   ]
  },
  {
   "cell_type": "code",
   "execution_count": 16,
   "metadata": {},
   "outputs": [],
   "source": [
    "df['Label'] = df['Label'].str.replace('[^a-z|ğ|Ğ|ç|C|ı|I|i|İ|ö|Ö|Ş|ş|ü|Ü| ] ',' ').str.lower()"
   ]
  },
  {
   "cell_type": "code",
   "execution_count": 17,
   "metadata": {},
   "outputs": [
    {
     "name": "stdout",
     "output_type": "stream",
     "text": [
      "          Label                                            feature\n",
      "0   kultursanat  belgelemek ve değiştirmek için kamera  4 hangi...\n",
      "1     teknoloji    \\te-ticaret alanının yenilikçi bir markası o...\n",
      "2        saglik   radi̇ka   sağlık çalışanlarına şiddet uygulay...\n",
      "3   kultursanat    \\tdeniz kuvvetleri komutanlığı bünyesinde sa...\n",
      "4       siyaset   radi̇ka                     ch               ...\n",
      "5          spor  bu kadro başaramaz  'milli takım'ın bu yapısıy...\n",
      "6     teknoloji                                        \\t      ...\n",
      "7     teknoloji     \\t\\t\\t\\t\\t\\t  \\t\\t\\t\\t\\t\\t  \\t\\t\\t\\t\\t\\t\\t\\...\n",
      "8       ekonomi   radi̇ka   im sözcüsü                   yunani...\n",
      "9          spor     \\t\\t\\t\\t\\t\\t  \\t\\t\\t\\t\\t\\t  \\t\\t\\t\\t\\t\\t\\t\\...\n",
      "10      ekonomi    \\tborsa i̇stanbul (bi̇st 10 endeksi günü yüz...\n",
      "11       saglik                                        \\ttürk e...\n",
      "12       saglik   radi̇ka   hastaneye kaldırılan kişi acil olar...\n",
      "13  kultursanat  pakistan orhan kemal'in kaleminden nazım'ı oku...\n",
      "14         spor    \\tdiyarbakır’da spor eğitmenliği yapan ahmet...\n",
      "15  kultursanat  türk sanatçıdan londra'da bir ilk  i̇ngiltere'...\n",
      "16    teknoloji  ms tarih oluyor  microsoft'un 1 yıllık geçmişi...\n",
      "17    teknoloji  yılın son gökyüzü şöleni  gökyüzünde görsel şö...\n",
      "18       saglik  protez dişleri temizlerken dikkat  protez dişl...\n",
      "19    teknoloji  distribütörü belli oldu  1 kasım'dan itibaren ...\n",
      "20      ekonomi     \\t\\t\\t\\t\\t\\t  \\t\\t\\t\\t\\t\\t  \\t\\t\\t\\t\\t  \\t\\...\n",
      "21  kultursanat  emre kula  beyoğlu hayal kahvesi  12.11.201  2...\n",
      "22         spor                                      1 avrupa o...\n",
      "23       saglik  her istediği yapılan çocuk mutsuz oluyor  her ...\n",
      "24         spor                                        \\tatleti...\n",
      "25    teknoloji  i̇nternet kullanıcılarına çok önemli uyarı  tü...\n",
      "26         spor  ﻿cimbom'un brezilyalı oyuncusu felipe melo    ...\n",
      "27      siyaset   radi̇ka   muğla'nın datça i̇lçe belediye başk...\n",
      "28      ekonomi    \\tborsa i̇stanbul (bi̇st 10 endeksi ilk sean...\n",
      "29    teknoloji                                        \\t      ...\n",
      "30    teknoloji    \\t80 milyonu aşkın kullanıcısıyla dünyanın e...\n",
      "31       saglik    \\tdünya’da üçüncü kez uygulanan robotik böbr...\n",
      "32  kultursanat   \\t\\t\\t\\t\\t\\t  \\t\\t\\t\\t\\t\\t  \\t\\t\\t\\t\\t\\t  \\t\\...\n",
      "33  kultursanat  i̇şte en büyük atatürk portalı  http://www.ist...\n",
      "34       saglik    \\tyapılan birçok araştırmanın  vitamini içer...\n",
      "35      ekonomi  fasondan bıktı tek markayla uçtu  1985ten ber...\n",
      "36       saglik  soruşturma başlatıldı  sivas'ın zara ilçesinde...\n",
      "37         spor     \\t\\t\\t\\t\\t\\t  \\t\\t\\t\\t\\t\\t  \\t\\t\\t\\t\\t\\t\\t\\...\n",
      "38      siyaset  hükümet'in google'dan içerik kaldırma talebi f...\n",
      "39       saglik  ﻿araştırmayı yapan amerikan ulusal sağlık enst...\n",
      "40       saglik  ﻿burun estetiği ameliyatı sonrasında öncelikle...\n",
      "41    teknoloji  ﻿google'ın 2012'de motorola satın almasıyla bi...\n",
      "42      siyaset                                        \\tmimarl...\n",
      "43  kultursanat  oyunculuğuna övgü yağdı  gergedan mevsiminde...\n",
      "44       saglik  kıyma çektirirken hijyene dikkat  konya kasapl...\n",
      "45       saglik  nefesler tutuldu ikizler ayrıldı  abd'de göğüs...\n",
      "46      siyaset   radi̇ka   suriye nin                   türkiy...\n",
      "47       saglik                                        \\thindis...\n",
      "48  kultursanat  ünlü yazarın ailesinden rekor tazminat talebi ...\n",
      "49  kultursanat    \\tbüyükşehir belediyesi’nin öncülüğünde gerç...\n"
     ]
    }
   ],
   "source": [
    "print(df.head(50))"
   ]
  },
  {
   "cell_type": "code",
   "execution_count": 18,
   "metadata": {},
   "outputs": [
    {
     "data": {
      "text/plain": [
       "2520"
      ]
     },
     "execution_count": 18,
     "metadata": {},
     "output_type": "execute_result"
    }
   ],
   "source": [
    "len(df)"
   ]
  },
  {
   "cell_type": "code",
   "execution_count": 19,
   "metadata": {},
   "outputs": [],
   "source": [
    "#df['Label'] = df['Label'].str.split()"
   ]
  },
  {
   "cell_type": "code",
   "execution_count": 20,
   "metadata": {},
   "outputs": [],
   "source": [
    "#df['feature'] = df['feature'].str.split()"
   ]
  },
  {
   "cell_type": "code",
   "execution_count": 21,
   "metadata": {},
   "outputs": [],
   "source": [
    "#print(df.head(50))"
   ]
  },
  {
   "cell_type": "markdown",
   "metadata": {},
   "source": [
    "# Preparaing dataset for model"
   ]
  },
  {
   "cell_type": "markdown",
   "metadata": {},
   "source": [
    "\n",
    "Prepare Train and Test Data sets\n",
    "The Corpus will be split into two data sets, Training and Test.\n",
    "The training data set will be used to fit the model and \n",
    "the predictions will be performed on the test data set.\n",
    "This can be done through the train_test_split from the sklearn library.\n",
    "The Training Data will have 70% of the corpus and\n",
    "Test data will have the remaining 30% as we have set the parameter test_size=0.3 ."
   ]
  },
  {
   "cell_type": "markdown",
   "metadata": {},
   "source": [
    "# 1. TF-IDF Vectorizer"
   ]
  },
  {
   "cell_type": "code",
   "execution_count": 22,
   "metadata": {},
   "outputs": [],
   "source": [
    "X = df['feature']\n",
    "y = df['Label']"
   ]
  },
  {
   "cell_type": "code",
   "execution_count": 23,
   "metadata": {},
   "outputs": [
    {
     "name": "stdout",
     "output_type": "stream",
     "text": [
      "Performance for the traditional BOW approach with bigrams\n",
      "X_train shape:  (2520, 1000)\n"
     ]
    }
   ],
   "source": [
    "from sklearn.feature_extraction.text import TfidfVectorizer\n",
    "K=1000\n",
    "print(\"Performance for the traditional BOW approach with bigrams\")\n",
    "vectorizer = TfidfVectorizer(max_df=0.95, min_df=10, max_features=K, ngram_range=(1,2))\n",
    "X_train = vectorizer.fit_transform(X)\n",
    "print(\"X_train shape: \",X_train.shape)"
   ]
  },
  {
   "cell_type": "code",
   "execution_count": 24,
   "metadata": {},
   "outputs": [
    {
     "data": {
      "text/plain": [
       "array([[0.        , 0.        , 0.        , 0.        , 0.        ,\n",
       "        0.        , 0.        , 0.        , 0.        , 0.        ,\n",
       "        0.        , 0.        , 0.        , 0.        , 0.2332844 ,\n",
       "        0.        , 0.        , 0.13408914, 0.        , 0.        ,\n",
       "        0.        , 0.        , 0.        , 0.        , 0.        ,\n",
       "        0.        , 0.        , 0.        , 0.        , 0.        ,\n",
       "        0.        , 0.        , 0.        , 0.        , 0.        ,\n",
       "        0.        , 0.        , 0.        , 0.11931073, 0.        ,\n",
       "        0.        , 0.        , 0.        , 0.        , 0.        ,\n",
       "        0.        , 0.        , 0.        , 0.        , 0.        ,\n",
       "        0.        , 0.        , 0.        , 0.        , 0.        ,\n",
       "        0.        , 0.        , 0.        , 0.        , 0.        ,\n",
       "        0.        , 0.        , 0.        , 0.        , 0.        ,\n",
       "        0.        , 0.        , 0.        , 0.        , 0.        ,\n",
       "        0.        , 0.        , 0.        , 0.        , 0.        ,\n",
       "        0.        , 0.        , 0.37659784, 0.        , 0.        ,\n",
       "        0.        , 0.        , 0.        , 0.        , 0.        ,\n",
       "        0.        , 0.        , 0.        , 0.        , 0.        ,\n",
       "        0.        , 0.        , 0.        , 0.        , 0.        ,\n",
       "        0.        , 0.        , 0.        , 0.        , 0.        ,\n",
       "        0.        , 0.        , 0.        , 0.        , 0.        ,\n",
       "        0.        , 0.        , 0.        , 0.        , 0.        ,\n",
       "        0.        , 0.        , 0.        , 0.        , 0.        ,\n",
       "        0.        , 0.        , 0.        , 0.        , 0.        ,\n",
       "        0.        , 0.        , 0.        , 0.        , 0.        ,\n",
       "        0.        , 0.        , 0.        , 0.        , 0.        ,\n",
       "        0.        , 0.        , 0.        , 0.        , 0.        ,\n",
       "        0.        , 0.        , 0.        , 0.        , 0.        ,\n",
       "        0.        , 0.        , 0.        , 0.        , 0.        ,\n",
       "        0.13265918, 0.        , 0.        , 0.        , 0.        ,\n",
       "        0.        , 0.        , 0.        , 0.        , 0.10632451,\n",
       "        0.        , 0.        , 0.03809043, 0.        , 0.        ,\n",
       "        0.        , 0.        , 0.        , 0.        , 0.        ,\n",
       "        0.        , 0.        , 0.        , 0.        , 0.        ,\n",
       "        0.        , 0.        , 0.        , 0.        , 0.        ,\n",
       "        0.        , 0.        , 0.        , 0.        , 0.        ,\n",
       "        0.        , 0.        , 0.        , 0.        , 0.        ,\n",
       "        0.        , 0.        , 0.        , 0.        , 0.        ,\n",
       "        0.        , 0.        , 0.        , 0.        , 0.        ,\n",
       "        0.        , 0.        , 0.        , 0.        , 0.        ,\n",
       "        0.        , 0.        , 0.        , 0.        , 0.        ,\n",
       "        0.        , 0.        , 0.        , 0.        , 0.        ,\n",
       "        0.        , 0.        , 0.        , 0.        , 0.        ,\n",
       "        0.        , 0.        , 0.        , 0.        , 0.        ,\n",
       "        0.        , 0.        , 0.        , 0.        , 0.        ,\n",
       "        0.        , 0.        , 0.        , 0.        , 0.        ,\n",
       "        0.        , 0.        , 0.        , 0.        , 0.        ,\n",
       "        0.        , 0.        , 0.        , 0.        , 0.08851587,\n",
       "        0.        , 0.        , 0.        , 0.        , 0.        ,\n",
       "        0.        , 0.        , 0.        , 0.        , 0.        ,\n",
       "        0.        , 0.08585875, 0.        , 0.        , 0.        ,\n",
       "        0.        , 0.        , 0.        , 0.        , 0.        ,\n",
       "        0.        , 0.        , 0.        , 0.        , 0.        ,\n",
       "        0.        , 0.        , 0.        , 0.        , 0.        ,\n",
       "        0.        , 0.        , 0.        , 0.        , 0.        ,\n",
       "        0.        , 0.        , 0.        , 0.        , 0.        ,\n",
       "        0.        , 0.        , 0.        , 0.        , 0.        ,\n",
       "        0.        , 0.        , 0.        , 0.        , 0.        ,\n",
       "        0.        , 0.        , 0.        , 0.        , 0.        ,\n",
       "        0.        , 0.        , 0.        , 0.        , 0.        ,\n",
       "        0.        , 0.        , 0.        , 0.        , 0.        ,\n",
       "        0.        , 0.        , 0.        , 0.        , 0.        ,\n",
       "        0.        , 0.        , 0.        , 0.        , 0.        ,\n",
       "        0.        , 0.        , 0.        , 0.        , 0.        ,\n",
       "        0.        , 0.        , 0.        , 0.        , 0.        ,\n",
       "        0.        , 0.        , 0.        , 0.        , 0.        ,\n",
       "        0.        , 0.        , 0.        , 0.        , 0.        ,\n",
       "        0.        , 0.        , 0.        , 0.        , 0.        ,\n",
       "        0.        , 0.        , 0.        , 0.        , 0.        ,\n",
       "        0.        , 0.        , 0.12812594, 0.        , 0.        ,\n",
       "        0.        , 0.        , 0.        , 0.        , 0.        ,\n",
       "        0.        , 0.        , 0.        , 0.28789537, 0.37659784,\n",
       "        0.31564902, 0.        , 0.        , 0.        , 0.        ,\n",
       "        0.        , 0.        , 0.        , 0.14059519, 0.        ,\n",
       "        0.        , 0.        , 0.        , 0.        , 0.        ,\n",
       "        0.        , 0.        , 0.        , 0.        , 0.        ,\n",
       "        0.        , 0.        , 0.        , 0.        , 0.11433949,\n",
       "        0.        , 0.        , 0.        , 0.        , 0.        ,\n",
       "        0.        , 0.        , 0.        , 0.        , 0.        ,\n",
       "        0.        , 0.        , 0.        , 0.        , 0.        ,\n",
       "        0.        , 0.        , 0.        , 0.        , 0.        ,\n",
       "        0.        , 0.        , 0.        , 0.        , 0.        ,\n",
       "        0.        , 0.        , 0.        , 0.        , 0.        ,\n",
       "        0.        , 0.        , 0.10829505, 0.        , 0.        ,\n",
       "        0.        , 0.        , 0.        , 0.        , 0.13162921,\n",
       "        0.        , 0.        , 0.        , 0.        , 0.        ,\n",
       "        0.        , 0.24378584, 0.        , 0.        , 0.        ,\n",
       "        0.        , 0.        , 0.        , 0.        , 0.        ,\n",
       "        0.        , 0.        , 0.        , 0.        , 0.        ,\n",
       "        0.        , 0.        , 0.        , 0.        , 0.        ,\n",
       "        0.        , 0.        , 0.        , 0.        , 0.        ,\n",
       "        0.        , 0.        , 0.        , 0.        , 0.        ,\n",
       "        0.        , 0.        , 0.        , 0.        , 0.        ,\n",
       "        0.        , 0.        , 0.        , 0.        , 0.        ,\n",
       "        0.        , 0.        , 0.        , 0.        , 0.        ,\n",
       "        0.08548689, 0.        , 0.04724757, 0.        , 0.        ,\n",
       "        0.        , 0.        , 0.        , 0.10574304, 0.        ,\n",
       "        0.        , 0.        , 0.        , 0.        , 0.        ,\n",
       "        0.        , 0.        , 0.        , 0.        , 0.        ,\n",
       "        0.        , 0.        , 0.        , 0.        , 0.        ,\n",
       "        0.        , 0.        , 0.        , 0.14155396, 0.        ,\n",
       "        0.        , 0.        , 0.        , 0.        , 0.        ,\n",
       "        0.        , 0.        , 0.        , 0.06578889, 0.        ,\n",
       "        0.        , 0.        , 0.        , 0.        , 0.        ,\n",
       "        0.        , 0.11414901, 0.        , 0.        , 0.        ,\n",
       "        0.        , 0.        , 0.        , 0.        , 0.        ,\n",
       "        0.        , 0.        , 0.        , 0.        , 0.        ,\n",
       "        0.        , 0.        , 0.        , 0.        , 0.        ,\n",
       "        0.        , 0.        , 0.        , 0.        , 0.        ,\n",
       "        0.        , 0.        , 0.        , 0.        , 0.        ,\n",
       "        0.        , 0.        , 0.        , 0.        , 0.        ,\n",
       "        0.        , 0.        , 0.        , 0.        , 0.        ,\n",
       "        0.        , 0.        , 0.        , 0.        , 0.        ,\n",
       "        0.        , 0.        , 0.        , 0.        , 0.        ,\n",
       "        0.        , 0.        , 0.        , 0.        , 0.        ,\n",
       "        0.        , 0.        , 0.        , 0.        , 0.        ,\n",
       "        0.        , 0.        , 0.11798961, 0.        , 0.        ,\n",
       "        0.        , 0.        , 0.        , 0.        , 0.        ,\n",
       "        0.        , 0.        , 0.        , 0.        , 0.        ,\n",
       "        0.        , 0.        , 0.        , 0.        , 0.        ,\n",
       "        0.        , 0.        , 0.        , 0.        , 0.        ,\n",
       "        0.        , 0.        , 0.        , 0.        , 0.        ,\n",
       "        0.        , 0.        , 0.        , 0.        , 0.        ,\n",
       "        0.        , 0.        , 0.        , 0.07647085, 0.        ,\n",
       "        0.        , 0.        , 0.        , 0.        , 0.        ,\n",
       "        0.        , 0.        , 0.        , 0.        , 0.        ,\n",
       "        0.        , 0.        , 0.        , 0.        , 0.        ,\n",
       "        0.        , 0.        , 0.        , 0.        , 0.        ,\n",
       "        0.        , 0.        , 0.        , 0.        , 0.        ,\n",
       "        0.        , 0.        , 0.        , 0.        , 0.        ,\n",
       "        0.        , 0.        , 0.        , 0.        , 0.        ,\n",
       "        0.        , 0.        , 0.        , 0.        , 0.        ,\n",
       "        0.        , 0.        , 0.        , 0.        , 0.        ,\n",
       "        0.        , 0.        , 0.        , 0.        , 0.        ,\n",
       "        0.        , 0.        , 0.        , 0.        , 0.        ,\n",
       "        0.        , 0.        , 0.        , 0.        , 0.        ,\n",
       "        0.        , 0.        , 0.        , 0.        , 0.        ,\n",
       "        0.        , 0.        , 0.        , 0.        , 0.        ,\n",
       "        0.        , 0.        , 0.        , 0.        , 0.        ,\n",
       "        0.        , 0.        , 0.        , 0.        , 0.        ,\n",
       "        0.        , 0.        , 0.        , 0.        , 0.        ,\n",
       "        0.        , 0.        , 0.        , 0.        , 0.        ,\n",
       "        0.        , 0.        , 0.        , 0.        , 0.        ,\n",
       "        0.        , 0.        , 0.        , 0.        , 0.        ,\n",
       "        0.        , 0.        , 0.        , 0.        , 0.13757615,\n",
       "        0.        , 0.        , 0.        , 0.        , 0.07236598,\n",
       "        0.        , 0.        , 0.        , 0.        , 0.        ,\n",
       "        0.        , 0.        , 0.        , 0.        , 0.        ,\n",
       "        0.        , 0.        , 0.        , 0.        , 0.        ,\n",
       "        0.        , 0.        , 0.        , 0.        , 0.        ,\n",
       "        0.        , 0.        , 0.        , 0.        , 0.        ,\n",
       "        0.        , 0.        , 0.        , 0.        , 0.        ,\n",
       "        0.        , 0.        , 0.        , 0.        , 0.        ,\n",
       "        0.        , 0.        , 0.        , 0.        , 0.        ,\n",
       "        0.        , 0.        , 0.        , 0.        , 0.        ,\n",
       "        0.        , 0.        , 0.        , 0.12140681, 0.        ,\n",
       "        0.        , 0.        , 0.        , 0.        , 0.        ,\n",
       "        0.        , 0.        , 0.10632451, 0.        , 0.        ,\n",
       "        0.        , 0.        , 0.        , 0.        , 0.        ,\n",
       "        0.        , 0.        , 0.        , 0.        , 0.        ,\n",
       "        0.        , 0.        , 0.        , 0.        , 0.        ,\n",
       "        0.        , 0.        , 0.        , 0.        , 0.        ,\n",
       "        0.06252999, 0.        , 0.        , 0.        , 0.        ,\n",
       "        0.        , 0.        , 0.        , 0.        , 0.        ,\n",
       "        0.        , 0.        , 0.        , 0.        , 0.        ,\n",
       "        0.        , 0.        , 0.        , 0.        , 0.        ,\n",
       "        0.        , 0.17060548, 0.        , 0.        , 0.        ,\n",
       "        0.        , 0.        , 0.        , 0.        , 0.        ,\n",
       "        0.        , 0.        , 0.        , 0.        , 0.        ,\n",
       "        0.        , 0.        , 0.        , 0.        , 0.        ,\n",
       "        0.        , 0.        , 0.        , 0.        , 0.        ,\n",
       "        0.13336575, 0.        , 0.        , 0.        , 0.        ,\n",
       "        0.        , 0.        , 0.        , 0.        , 0.        ,\n",
       "        0.        , 0.        , 0.        , 0.        , 0.        ,\n",
       "        0.        , 0.        , 0.        , 0.        , 0.        ,\n",
       "        0.1263727 , 0.        , 0.        , 0.        , 0.        ,\n",
       "        0.        , 0.        , 0.        , 0.        , 0.07128167,\n",
       "        0.        , 0.        , 0.        , 0.        , 0.        ,\n",
       "        0.        , 0.        , 0.        , 0.        , 0.        ,\n",
       "        0.        , 0.        , 0.        , 0.        , 0.160323  ,\n",
       "        0.        , 0.        , 0.        , 0.        , 0.        ,\n",
       "        0.        , 0.        , 0.        , 0.        , 0.        ,\n",
       "        0.        , 0.        , 0.        , 0.        , 0.        ,\n",
       "        0.        , 0.        , 0.        , 0.        , 0.        ,\n",
       "        0.        , 0.        , 0.        , 0.        , 0.        ,\n",
       "        0.        , 0.        , 0.        , 0.        , 0.        ,\n",
       "        0.        , 0.        , 0.        , 0.14497765, 0.        ,\n",
       "        0.        , 0.        , 0.        , 0.        , 0.        ,\n",
       "        0.        , 0.        , 0.        , 0.        , 0.        ,\n",
       "        0.        , 0.        , 0.        , 0.        , 0.        ,\n",
       "        0.        , 0.        , 0.        , 0.        , 0.        ,\n",
       "        0.        , 0.        , 0.07455477, 0.10798344, 0.        ,\n",
       "        0.        , 0.        , 0.        , 0.        , 0.        ,\n",
       "        0.        , 0.        , 0.        , 0.        , 0.        ,\n",
       "        0.        , 0.        , 0.        , 0.        , 0.        ,\n",
       "        0.        , 0.        , 0.        , 0.        , 0.        ,\n",
       "        0.        , 0.        , 0.        , 0.        , 0.        ,\n",
       "        0.        , 0.        , 0.        , 0.        , 0.        ,\n",
       "        0.        , 0.        , 0.        , 0.        , 0.        ,\n",
       "        0.        , 0.        , 0.        , 0.        , 0.        ]])"
      ]
     },
     "execution_count": 24,
     "metadata": {},
     "output_type": "execute_result"
    }
   ],
   "source": [
    "X_train[0].toarray()"
   ]
  },
  {
   "cell_type": "code",
   "execution_count": 25,
   "metadata": {
    "scrolled": true
   },
   "outputs": [
    {
     "data": {
      "text/plain": [
       "['ve',\n",
       " 'için',\n",
       " 'hangi',\n",
       " 'film',\n",
       " 'festivali',\n",
       " 'yaşanan',\n",
       " 'hak',\n",
       " 'ne',\n",
       " 'kapsamında',\n",
       " 'aralık',\n",
       " '201',\n",
       " 'türkiye',\n",
       " 'den',\n",
       " 'yunanistan',\n",
       " 'dan',\n",
       " 'ilişkin',\n",
       " 'önemli',\n",
       " 'bir',\n",
       " 'ev',\n",
       " 'yapacak',\n",
       " 'lk',\n",
       " 'tarihi',\n",
       " 'benzer',\n",
       " 'teknik',\n",
       " 'sinema',\n",
       " 'ile',\n",
       " 'son',\n",
       " 'iki',\n",
       " 'günü',\n",
       " 'kadar',\n",
       " 'gerekiyor',\n",
       " 'bilgi',\n",
       " '2012',\n",
       " 'yer',\n",
       " 'galatasaray',\n",
       " 'ahmet',\n",
       " 'çelik',\n",
       " 'film festivali',\n",
       " 'önemli bir',\n",
       " 'ticaret',\n",
       " 'olan',\n",
       " 'artık',\n",
       " 'özel',\n",
       " 'hızlı',\n",
       " 'ürün',\n",
       " 'yönetim',\n",
       " 'satış',\n",
       " 'ise',\n",
       " 'ön',\n",
       " 'düşük',\n",
       " 'hiçbir',\n",
       " 'açısından',\n",
       " 'oldukça',\n",
       " 'kolay',\n",
       " 'olacak',\n",
       " 'aynı',\n",
       " 'zamanda',\n",
       " 'yatırım',\n",
       " 'gerek',\n",
       " 'hemen',\n",
       " 'arasında',\n",
       " 'çok',\n",
       " 'küçük',\n",
       " 'orta',\n",
       " 'büyük',\n",
       " 'iş',\n",
       " 'yeni',\n",
       " 'dönem',\n",
       " 'de',\n",
       " 'edecek',\n",
       " 'in',\n",
       " 'mustafa',\n",
       " 'devam',\n",
       " 'haline',\n",
       " 'dedi',\n",
       " 'öne',\n",
       " 'çalışma',\n",
       " 'durumu',\n",
       " 'bağlı',\n",
       " 'ileri',\n",
       " 'zaman',\n",
       " 'gibi',\n",
       " 'farklı',\n",
       " 'da',\n",
       " 'mümkün',\n",
       " 'bunların',\n",
       " 'dışında',\n",
       " 'hizmet',\n",
       " 'göre',\n",
       " 'olarak',\n",
       " 'verdiği',\n",
       " 'yaparak',\n",
       " 'çıkan',\n",
       " 'sağlıklı',\n",
       " 'özelliği',\n",
       " 'gıda',\n",
       " 'çeşitli',\n",
       " 'si',\n",
       " 'ana',\n",
       " 'alan']"
      ]
     },
     "execution_count": 25,
     "metadata": {},
     "output_type": "execute_result"
    }
   ],
   "source": [
    "list(vectorizer.vocabulary_)[:100]"
   ]
  },
  {
   "cell_type": "code",
   "execution_count": 26,
   "metadata": {},
   "outputs": [],
   "source": [
    "from sklearn.model_selection import train_test_split\n",
    "\n"
   ]
  },
  {
   "cell_type": "code",
   "execution_count": 27,
   "metadata": {
    "scrolled": true
   },
   "outputs": [],
   "source": [
    "X_train, X_test, y_train, y_test = train_test_split(X,y,test_size=0.3)"
   ]
  },
  {
   "cell_type": "markdown",
   "metadata": {},
   "source": [
    "using 30 % of data for testing and 70% for training"
   ]
  },
  {
   "cell_type": "code",
   "execution_count": 28,
   "metadata": {},
   "outputs": [
    {
     "data": {
      "text/plain": [
       "1764"
      ]
     },
     "execution_count": 28,
     "metadata": {},
     "output_type": "execute_result"
    }
   ],
   "source": [
    "len(X_train)"
   ]
  },
  {
   "cell_type": "code",
   "execution_count": 29,
   "metadata": {},
   "outputs": [
    {
     "data": {
      "text/plain": [
       "756"
      ]
     },
     "execution_count": 29,
     "metadata": {},
     "output_type": "execute_result"
    }
   ],
   "source": [
    "len(X_test)\n"
   ]
  },
  {
   "cell_type": "code",
   "execution_count": 30,
   "metadata": {},
   "outputs": [
    {
     "data": {
      "text/plain": [
       "2469    piyasaların obama kutlaması almanya ile kabusa...\n",
       "1549     radi̇ka   yüksek seçim kurulu (ysk başkanı sa...\n",
       "1456    ﻿ülkede kanser hastalığı üzerine araştırmaları...\n",
       "1168    şeker hastaları kampa girdi  diyabet konusunda...\n",
       "691       \\tyeşil-beyazlı kulüpten yapılan açıklamada ...\n",
       "                              ...                        \n",
       "845     bu besinler göğüsleri büyütüyor  çevrenizde ye...\n",
       "584     ﻿madri̇  portekiz basını                      ...\n",
       "287     alex için dev organizasyon  fenerbahçe ile yol...\n",
       "273       \\tküçükçekmece belediyesi halkalı kültür ve ...\n",
       "951     doğan holding'in kurumsal yönetim notu 1 üzeri...\n",
       "Name: feature, Length: 1764, dtype: object"
      ]
     },
     "execution_count": 30,
     "metadata": {},
     "output_type": "execute_result"
    }
   ],
   "source": [
    "X_train"
   ]
  },
  {
   "cell_type": "code",
   "execution_count": 31,
   "metadata": {},
   "outputs": [
    {
     "data": {
      "text/plain": [
       "4        radi̇ka                     ch               ...\n",
       "646       \\ttürkiye profesyonel futbolcular derneği ba...\n",
       "288     ﻿müni̇  brezilyalı uzmanlar anne sütü ile besl...\n",
       "2212    başkent blues ustalarını ağırlayacak  \"efes pi...\n",
       "1274                                          \\t     \\...\n",
       "                              ...                        \n",
       "1480     radi̇ka -hazine müsteşarlığının sigorta acent...\n",
       "52      ﻿nyo  i̇sviçre'nin nyon kentindeki uef merkezi...\n",
       "1724      \\tcumhurbaşkanı recep tayyip erdoğan grand t...\n",
       "294                                           \\tapple’...\n",
       "511     anadilde savunma komisyonda görüşülecek  mecli...\n",
       "Name: feature, Length: 756, dtype: object"
      ]
     },
     "execution_count": 31,
     "metadata": {},
     "output_type": "execute_result"
    }
   ],
   "source": [
    "X_test"
   ]
  },
  {
   "cell_type": "code",
   "execution_count": 32,
   "metadata": {},
   "outputs": [],
   "source": [
    "import sklearn\n",
    "from sklearn.naive_bayes import GaussianNB\n",
    "from sklearn.naive_bayes import MultinomialNB\n",
    "import pandas as pd\n",
    "import numpy as np\n",
    "from nltk.tokenize import word_tokenize\n",
    "from nltk import pos_tag\n",
    "from nltk.corpus import stopwords\n",
    "from nltk.stem import WordNetLemmatizer\n",
    "from sklearn.preprocessing import LabelEncoder\n",
    "from collections import defaultdict\n",
    "from nltk.corpus import wordnet as wn\n",
    "from sklearn.feature_extraction.text import TfidfVectorizer\n",
    "from sklearn import model_selection, naive_bayes, svm\n",
    "from sklearn.metrics import accuracy_score\n",
    "import nltk\n",
    "import numpy as np # linear algebra\n",
    "import pandas as pd # data processing, \n",
    "from sklearn.naive_bayes import MultinomialNB\n",
    "from sklearn.linear_model import LogisticRegression\n",
    "from sklearn.svm import LinearSVC\n",
    "import sklearn"
   ]
  },
  {
   "cell_type": "code",
   "execution_count": 34,
   "metadata": {},
   "outputs": [
    {
     "name": "stdout",
     "output_type": "stream",
     "text": [
      "2469    piyasaların obama kutlaması almanya ile kabusa...\n",
      "1549     radi̇ka   yüksek seçim kurulu (ysk başkanı sa...\n",
      "1456    ﻿ülkede kanser hastalığı üzerine araştırmaları...\n",
      "1168    şeker hastaları kampa girdi  diyabet konusunda...\n",
      "691       \\tyeşil-beyazlı kulüpten yapılan açıklamada ...\n",
      "                              ...                        \n",
      "845     bu besinler göğüsleri büyütüyor  çevrenizde ye...\n",
      "584     ﻿madri̇  portekiz basını                      ...\n",
      "287     alex için dev organizasyon  fenerbahçe ile yol...\n",
      "273       \\tküçükçekmece belediyesi halkalı kültür ve ...\n",
      "951     doğan holding'in kurumsal yönetim notu 1 üzeri...\n",
      "Name: feature, Length: 1764, dtype: object\n"
     ]
    }
   ],
   "source": [
    "print(X_train)"
   ]
  },
  {
   "cell_type": "markdown",
   "metadata": {},
   "source": [
    "# Checking train Accuracy"
   ]
  },
  {
   "cell_type": "code",
   "execution_count": 35,
   "metadata": {},
   "outputs": [],
   "source": [
    "import sklearn\n",
    "from sklearn.naive_bayes import GaussianNB\n",
    "from sklearn.naive_bayes import MultinomialNB\n",
    "import pandas as pd\n",
    "import numpy as np\n",
    "from nltk.tokenize import word_tokenize\n",
    "from nltk import pos_tag\n",
    "from nltk.corpus import stopwords\n",
    "from nltk.stem import WordNetLemmatizer\n",
    "from sklearn.preprocessing import LabelEncoder\n",
    "from collections import defaultdict\n",
    "from nltk.corpus import wordnet as wn\n",
    "from sklearn.feature_extraction.text import TfidfVectorizer\n",
    "from sklearn import model_selection, naive_bayes, svm\n",
    "from sklearn.metrics import accuracy_score\n",
    "import nltk\n",
    "import numpy as np # linear algebra\n",
    "import pandas as pd # data processing, \n",
    "from sklearn.naive_bayes import MultinomialNB\n",
    "from sklearn.linear_model import LogisticRegression\n",
    "from sklearn.svm import LinearSVC\n",
    "import sklearn"
   ]
  },
  {
   "cell_type": "markdown",
   "metadata": {},
   "source": [
    "# Naive Bayes Accuracy"
   ]
  },
  {
   "cell_type": "code",
   "execution_count": 39,
   "metadata": {},
   "outputs": [
    {
     "ename": "IndentationError",
     "evalue": "unexpected indent (<ipython-input-39-929a3e4a4414>, line 4)",
     "output_type": "error",
     "traceback": [
      "\u001b[0;36m  File \u001b[0;32m\"<ipython-input-39-929a3e4a4414>\"\u001b[0;36m, line \u001b[0;32m4\u001b[0m\n\u001b[0;31m    predict the labels on validation dataset\u001b[0m\n\u001b[0m    ^\u001b[0m\n\u001b[0;31mIndentationError\u001b[0m\u001b[0;31m:\u001b[0m unexpected indent\n"
     ]
    }
   ],
   "source": [
    "# fit the training dataset on the NB classifier\n",
    "Naive = naive_bayes.MultinomialNB()\n",
    "Naive.fit(X_train,y)\n",
    "     predict the labels on validation dataset\n",
    "     predictions_NB = Naive.predict(Test_X_Tfidf)\n",
    "         Use accuracy_score function to get the accuracy\n",
    "print(\"Naive Bayes Accuracy Score -> \",accuracy_score(predictions_NB, y_test)*100)"
   ]
  },
  {
   "cell_type": "markdown",
   "metadata": {},
   "source": [
    "# SVM Accuracy"
   ]
  },
  {
   "cell_type": "code",
   "execution_count": 37,
   "metadata": {},
   "outputs": [
    {
     "ename": "NameError",
     "evalue": "name 'Train_X_Tfidf' is not defined",
     "output_type": "error",
     "traceback": [
      "\u001b[0;31m---------------------------------------------------------------------------\u001b[0m",
      "\u001b[0;31mNameError\u001b[0m                                 Traceback (most recent call last)",
      "\u001b[0;32m<ipython-input-37-cb1a5582181a>\u001b[0m in \u001b[0;36m<module>\u001b[0;34m\u001b[0m\n\u001b[1;32m      2\u001b[0m \u001b[0;31m# fit the training dataset on the classifier\u001b[0m\u001b[0;34m\u001b[0m\u001b[0;34m\u001b[0m\u001b[0;34m\u001b[0m\u001b[0m\n\u001b[1;32m      3\u001b[0m \u001b[0mSVM\u001b[0m \u001b[0;34m=\u001b[0m \u001b[0msvm\u001b[0m\u001b[0;34m.\u001b[0m\u001b[0mSVC\u001b[0m\u001b[0;34m(\u001b[0m\u001b[0mC\u001b[0m\u001b[0;34m=\u001b[0m\u001b[0;36m1.0\u001b[0m\u001b[0;34m,\u001b[0m \u001b[0mkernel\u001b[0m\u001b[0;34m=\u001b[0m\u001b[0;34m'linear'\u001b[0m\u001b[0;34m,\u001b[0m \u001b[0mdegree\u001b[0m\u001b[0;34m=\u001b[0m\u001b[0;36m3\u001b[0m\u001b[0;34m,\u001b[0m \u001b[0mgamma\u001b[0m\u001b[0;34m=\u001b[0m\u001b[0;34m'auto'\u001b[0m\u001b[0;34m)\u001b[0m\u001b[0;34m\u001b[0m\u001b[0;34m\u001b[0m\u001b[0m\n\u001b[0;32m----> 4\u001b[0;31m \u001b[0mSVM\u001b[0m\u001b[0;34m.\u001b[0m\u001b[0mfit\u001b[0m\u001b[0;34m(\u001b[0m\u001b[0mTrain_X_Tfidf\u001b[0m\u001b[0;34m,\u001b[0m\u001b[0my_train\u001b[0m\u001b[0;34m)\u001b[0m\u001b[0;34m\u001b[0m\u001b[0;34m\u001b[0m\u001b[0m\n\u001b[0m\u001b[1;32m      5\u001b[0m \u001b[0;31m# predict the labels on validation dataset\u001b[0m\u001b[0;34m\u001b[0m\u001b[0;34m\u001b[0m\u001b[0;34m\u001b[0m\u001b[0m\n\u001b[1;32m      6\u001b[0m \u001b[0mpredictions_SVM\u001b[0m \u001b[0;34m=\u001b[0m \u001b[0mSVM\u001b[0m\u001b[0;34m.\u001b[0m\u001b[0mpredict\u001b[0m\u001b[0;34m(\u001b[0m\u001b[0mTest_X_Tfidf\u001b[0m\u001b[0;34m)\u001b[0m\u001b[0;34m\u001b[0m\u001b[0;34m\u001b[0m\u001b[0m\n",
      "\u001b[0;31mNameError\u001b[0m: name 'Train_X_Tfidf' is not defined"
     ]
    }
   ],
   "source": [
    "# Classifier - Algorithm - SVM\n",
    "# fit the training dataset on the classifier\n",
    "SVM = svm.SVC(C=1.0, kernel='linear', degree=3, gamma='auto')\n",
    "SVM.fit(Train_X_Tfidf,y_train)\n",
    "# predict the labels on validation dataset\n",
    "predictions_SVM = SVM.predict(Test_X_Tfidf)\n",
    "# Use accuracy_score function to get the accuracy\n",
    "print(\"SVM Accuracy Score -> \",accuracy_score(predictions_SVM, y_test)*100)"
   ]
  },
  {
   "cell_type": "markdown",
   "metadata": {},
   "source": [
    "# Predicting with Test"
   ]
  },
  {
   "cell_type": "code",
   "execution_count": null,
   "metadata": {},
   "outputs": [],
   "source": [
    "testo = pd.read_csv('test.csv')\n",
    "\n"
   ]
  },
  {
   "cell_type": "code",
   "execution_count": null,
   "metadata": {},
   "outputs": [],
   "source": [
    "testo.columns=[\"feature\"]"
   ]
  },
  {
   "cell_type": "code",
   "execution_count": null,
   "metadata": {
    "scrolled": true
   },
   "outputs": [],
   "source": [
    "testo.head(40)"
   ]
  },
  {
   "cell_type": "code",
   "execution_count": null,
   "metadata": {},
   "outputs": [],
   "source": [
    "testo['feature'] = testo['feature'].str.replace('\\t', '')"
   ]
  },
  {
   "cell_type": "code",
   "execution_count": null,
   "metadata": {},
   "outputs": [],
   "source": [
    "testo['feature'] = testo['feature'].str.replace('[^a-z|ğ|Ğ|ç|C|ı|I|i|İ|ö|Ö|Ş|ş|ü|Ü| ] ',' ').str.lower()"
   ]
  },
  {
   "cell_type": "code",
   "execution_count": null,
   "metadata": {},
   "outputs": [],
   "source": [
    "testo.head(10)"
   ]
  },
  {
   "cell_type": "code",
   "execution_count": null,
   "metadata": {},
   "outputs": [],
   "source": [
    "X_test = testo['feature'].values\n",
    "X_test = vectorizer.transform(X_test)"
   ]
  },
  {
   "cell_type": "code",
   "execution_count": null,
   "metadata": {},
   "outputs": [],
   "source": [
    "predictions = Naive.predict(X_test)"
   ]
  },
  {
   "cell_type": "code",
   "execution_count": null,
   "metadata": {},
   "outputs": [],
   "source": [
    "print(X_test.shape)"
   ]
  },
  {
   "cell_type": "code",
   "execution_count": null,
   "metadata": {},
   "outputs": [],
   "source": [
    "list(vectorizer.vocabulary_)[:100]"
   ]
  },
  {
   "cell_type": "markdown",
   "metadata": {},
   "source": [
    "# Label Prediction with Test"
   ]
  },
  {
   "cell_type": "code",
   "execution_count": null,
   "metadata": {},
   "outputs": [],
   "source": [
    "Naive.predict(Test_y_Tfidf)"
   ]
  },
  {
   "cell_type": "code",
   "execution_count": null,
   "metadata": {
    "scrolled": false
   },
   "outputs": [],
   "source": [
    "SVM.predict(Test_y_Tfidf)"
   ]
  },
  {
   "cell_type": "code",
   "execution_count": null,
   "metadata": {},
   "outputs": [],
   "source": []
  }
 ],
 "metadata": {
  "kernelspec": {
   "display_name": "Python 3",
   "language": "python",
   "name": "python3"
  },
  "language_info": {
   "codemirror_mode": {
    "name": "ipython",
    "version": 3
   },
   "file_extension": ".py",
   "mimetype": "text/x-python",
   "name": "python",
   "nbconvert_exporter": "python",
   "pygments_lexer": "ipython3",
   "version": "3.7.4"
  }
 },
 "nbformat": 4,
 "nbformat_minor": 2
}
